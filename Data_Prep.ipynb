{
 "cells": [
  {
   "cell_type": "code",
   "execution_count": null,
   "id": "538ed0fd",
   "metadata": {},
   "outputs": [],
   "source": [
    "import pandas as pd\n",
    "import numpy as np"
   ]
  },
  {
   "cell_type": "code",
   "execution_count": 2,
   "id": "70e11d79",
   "metadata": {},
   "outputs": [],
   "source": [
    "def seperate_csv(file_name):\n",
    "    t1 = pd.read_csv(f'/Users/pangrui/Desktop/C1_python/data/{file_name}.csv', header = 0)\n",
    "    if t1.shape[0] % 2 == 1 :\n",
    "        t2 =t1.iloc[int((t1.shape[0]+1)/2):,]\n",
    "        t3 = t1.iloc[:int((t1.shape[0]+1)/2),]\n",
    "    else :\n",
    "        t2 =t1.iloc[int((t1.shape[0])/2):,]\n",
    "        t3 = t1.iloc[:int((t1.shape[0])/2),]\n",
    "\n",
    "    if t1.shape[0] == t2.shape[0] + t3.shape[0]:\n",
    "        t2.to_csv(f'/Users/pangrui/Desktop/C1_python/data/{file_name}1.csv', index= False)\n",
    "        t3.to_csv(f'/Users/pangrui/Desktop/C1_python/data/{file_name}2.csv', index= False)   \n",
    "        print('down')"
   ]
  },
  {
   "cell_type": "code",
   "execution_count": null,
   "id": "bad5d85f",
   "metadata": {},
   "outputs": [],
   "source": [
    "seperate_csv('Flights')\n",
    "seperate_csv('Tickets')\n",
    "seperate_csv('Flights1')\n",
    "seperate_csv('Flights2')"
   ]
  }
 ],
 "metadata": {
  "kernelspec": {
   "display_name": "base",
   "language": "python",
   "name": "python3"
  },
  "language_info": {
   "codemirror_mode": {
    "name": "ipython",
    "version": 3
   },
   "file_extension": ".py",
   "mimetype": "text/x-python",
   "name": "python",
   "nbconvert_exporter": "python",
   "pygments_lexer": "ipython3",
   "version": "3.9.13"
  }
 },
 "nbformat": 4,
 "nbformat_minor": 5
}
